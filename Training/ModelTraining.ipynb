{
 "cells": [
  {
   "cell_type": "markdown",
   "id": "7fd683b7",
   "metadata": {},
   "source": [
    "# Conditioned Model\n",
    "The following settings prepair the data to create a conditioned model. A parameterization configuration file must be created. Any number of parameters up to 65355-(number of audio chanels) may be defined. The limit is due to the number of channels allowed in a WAV file. \n",
    "\n",
    "The training instructions must then be modified to included the extra inputs to the model as ```-is <parameters + audio channels>``` That is, the number of inputs to the model must be the number of parameters plus the number of audio chanels.\n",
    "\n",
    "The training and validation data is split on modulus of 5: the 80% is dedicated to the training while the remaining 20% is used for validation."
   ]
  },
  {
   "cell_type": "code",
   "execution_count": null,
   "id": "7e3e47f9",
   "metadata": {},
   "outputs": [],
   "source": [
    "!python prep_wav.py \"OCD_Parameterized\" -p \"./Configs/Parameterization-Config.json\""
   ]
  },
  {
   "cell_type": "code",
   "execution_count": null,
   "id": "d300edcc",
   "metadata": {},
   "outputs": [],
   "source": [
    "!python dist_model_recnet.py -l LSTM-24-OCD_Parameterized -eps 250 --seed 39 -lm False -is 2"
   ]
  }
 ],
 "metadata": {
  "kernelspec": {
   "display_name": "Python 3 (ipykernel)",
   "language": "python",
   "name": "python3"
  },
  "language_info": {
   "codemirror_mode": {
    "name": "ipython",
    "version": 3
   },
   "file_extension": ".py",
   "mimetype": "text/x-python",
   "name": "python",
   "nbconvert_exporter": "python",
   "pygments_lexer": "ipython3",
   "version": "3.12.2"
  }
 },
 "nbformat": 4,
 "nbformat_minor": 5
}
