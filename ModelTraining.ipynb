{
 "cells": [
  {
   "cell_type": "markdown",
   "id": "7fd683b7",
   "metadata": {},
   "source": [
    "# Parameterized Model\n",
    "The following settings prepair the data to create a parameterized model. A parameterization configuration file must be created. An example configuration file is included. The example is for one parameter, but any number of parameters up to 65355-(number of audio chanels) parameters may be defined. The limit is due to the number of channels allowed in a WAV file. \n",
    "\n",
    "The training instructions must then be modified to included the extra inputs to the model as ```-is <parameters + audio channels>``` That is, the number of inputs to the model must be the number of parameters plus the number of audio chanels. So for our example, ```-is 2```.\n",
    "\n",
    "As is the default, the trainging and validation data is split on modulus of 5 which gives a 20 percent split.\n"
   ]
  },
  {
   "cell_type": "code",
   "execution_count": null,
   "id": "7e3e47f9",
   "metadata": {},
   "outputs": [],
   "source": [
    "!python prep_wav.py \"OCD_Parameterized\" -p \"./Configs/Parameterization-Config.json\"\n"
   ]
  },
  {
   "cell_type": "code",
   "execution_count": null,
   "id": "d300edcc",
   "metadata": {},
   "outputs": [],
   "source": [
    "!python dist_model_recnet.py -l RNN3-OCD_Parameterized -eps 175 --seed 39 -lm False -is 2"
   ]
  }
 ],
 "metadata": {
  "kernelspec": {
   "display_name": "Python 3 (ipykernel)",
   "language": "python",
   "name": "python3"
  },
  "language_info": {
   "codemirror_mode": {
    "name": "ipython",
    "version": 3
   },
   "file_extension": ".py",
   "mimetype": "text/x-python",
   "name": "python",
   "nbconvert_exporter": "python",
   "pygments_lexer": "ipython3",
   "version": "3.9.5"
  }
 },
 "nbformat": 4,
 "nbformat_minor": 5
}
